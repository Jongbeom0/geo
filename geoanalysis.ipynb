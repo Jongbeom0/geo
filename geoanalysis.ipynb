{
 "cells": [
  {
   "cell_type": "markdown",
   "metadata": {},
   "source": [
    "## Geodata를 활용한 그룹핑 분석\n",
    "\n"
   ]
  },
  {
   "cell_type": "markdown",
   "metadata": {},
   "source": [
    "DB : PostgreSQL v16.3"
   ]
  },
  {
   "cell_type": "markdown",
   "metadata": {},
   "source": [
    "### DB 접속, CSV 파일 정보를 DB에 업력"
   ]
  },
  {
   "cell_type": "code",
   "execution_count": 8,
   "metadata": {},
   "outputs": [],
   "source": [
    "import pandas as pd\n",
    "import psycopg2\n",
    "from psycopg2 import sql\n",
    "\n",
    "#CSV 파일 경로\n",
    "csvFilePath = 'csv/schoolGpsdata240322.csv'\n",
    "\n",
    "#DB 연결\n",
    "db = psycopg2.connect(host='localhost', dbname='geodata', user='postgres', password='3844', port=5432)\n",
    "db.set_client_encoding('UTF-8')\n",
    "cur = db.cursor()\n",
    "tableName = 'Schools'\n",
    "\n",
    "#CSV 처리\n",
    "df = pd.read_csv(csvFilePath)\n",
    "\n",
    "# 데이터프레임의 열 이름을 가져오기\n",
    "columns = df.columns.tolist()\n",
    "\n",
    "# 데이터 삽입을 위한 SQL 쿼리 생성\n",
    "insert_query = sql.SQL('''\n",
    "    INSERT INTO {table} ({fields})\n",
    "    VALUES ({values})\n",
    "''').format(\n",
    "    table=sql.Identifier(tableName),\n",
    "    fields=sql.SQL(', ').join(map(sql.Identifier, columns)),\n",
    "    values=sql.SQL(', ').join(sql.Placeholder() * len(columns))\n",
    ")\n",
    "\n",
    "# 데이터프레임의 각 행을 데이터베이스에 삽입\n",
    "for _, row in df.iterrows():\n",
    "    cur.execute(insert_query, row.tolist())\n",
    "\n",
    "# 변경 사항 커밋\n",
    "db.commit()\n",
    "\n",
    "# 연결 종료\n",
    "cur.close()\n",
    "db.close()\n",
    "print(\"Data inserted successfully.\")\n",
    "\n"
   ]
  }
 ],
 "metadata": {
  "kernelspec": {
   "display_name": "Python 3",
   "language": "python",
   "name": "python3"
  },
  "language_info": {
   "codemirror_mode": {
    "name": "ipython",
    "version": 3
   },
   "file_extension": ".py",
   "mimetype": "text/x-python",
   "name": "python",
   "nbconvert_exporter": "python",
   "pygments_lexer": "ipython3",
   "version": "3.11.9"
  }
 },
 "nbformat": 4,
 "nbformat_minor": 2
}
