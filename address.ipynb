{
 "cells": [
  {
   "cell_type": "markdown",
   "metadata": {},
   "source": [
    "## 주소 가져오기"
   ]
  },
  {
   "cell_type": "markdown",
   "metadata": {},
   "source": [
    "건물명으로 도로명 주소 찾기"
   ]
  },
  {
   "cell_type": "code",
   "execution_count": 10,
   "metadata": {},
   "outputs": [
    {
     "name": "stdout",
     "output_type": "stream",
     "text": [
      "구로구 디지털로 27\n",
      "37.4828803 126.8939915\n",
      "꿈마을 도서관, 디지털로27다길, 구로3동, 구로구, 서울특별시, 08372, 대한민국\n"
     ]
    }
   ],
   "source": [
    "import pandas as pd\n",
    "from geopy.geocoders import Nominatim\n",
    "\n",
    "#CSV 파일 경로\n",
    "csvFilePath = 'csv/library.csv'\n",
    "\n",
    "#CSV 처리\n",
    "df = pd.read_csv(csvFilePath)\n",
    "\n",
    "#테스트용 도로명 주소 불러오기\n",
    "test = df.loc[0, '새주소명'][:-8]\n",
    "print(test)  # '구로구 디지털로 27'\n",
    "\n",
    "#도로명 주소로 좌표 찾기\n",
    "geolocator = Nominatim(user_agent='chiricuto')\n",
    "location = geolocator.geocode(test)\n",
    "\n",
    "latitude = location.latitude\n",
    "longitude = location.longitude\n",
    "print(latitude, longitude)\n",
    "\n",
    "#좌표로 위치 찾기\n",
    "test_경도 = df.loc[0, '경도']\n",
    "test_위도 = df.loc[0, '위도']\n",
    "coords = f\"{test_위도},{test_경도}\"\n",
    "\n",
    "geolocator = Nominatim(user_agent='chiricuto')\n",
    "location = geolocator.reverse(coords)\n",
    "\n",
    "address = location.address\n",
    "print(address)"
   ]
  },
  {
   "cell_type": "markdown",
   "metadata": {},
   "source": [
    "주소로부터 GPS 좌표 찾기"
   ]
  },
  {
   "cell_type": "code",
   "execution_count": null,
   "metadata": {},
   "outputs": [],
   "source": [
    "import requests\n",
    "\n"
   ]
  }
 ],
 "metadata": {
  "kernelspec": {
   "display_name": "Python 3",
   "language": "python",
   "name": "python3"
  },
  "language_info": {
   "codemirror_mode": {
    "name": "ipython",
    "version": 3
   },
   "file_extension": ".py",
   "mimetype": "text/x-python",
   "name": "python",
   "nbconvert_exporter": "python",
   "pygments_lexer": "ipython3",
   "version": "3.11.9"
  }
 },
 "nbformat": 4,
 "nbformat_minor": 2
}
